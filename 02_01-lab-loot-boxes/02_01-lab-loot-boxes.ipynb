{
 "cells": [
  {
   "cell_type": "markdown",
   "metadata": {},
   "source": [
    "# \"Fun with Loot Boxes\" Lab\n",
    "\n",
    "> Author: Caroline Schmitt, Matt Brems\n",
    "\n",
    "### Scenario:\n",
    "\n",
    "You're an analyst for [Zynga](https://en.wikipedia.org/wiki/Zynga), a gaming studio working on an event for an MMO (massively multiplayer online) game. This event is going to include **loot boxes**.\n",
    "\n",
    "<img src=\"https://vignette.wikia.nocookie.net/2007scape/images/0/06/Culinaromancer%27s_chest.png/revision/latest?cb=20180403231423\" alt=\"drawing\" width=\"150\"/> \n",
    "\n",
    "A loot box is basically a treasure chest in a game. This loot box can be opened to reveal a variety of items: some items are very rare and valuable, other items are common and less valuable. (You may consult [the esteemed Wikipedia](https://en.wikipedia.org/wiki/Loot_box) for a more extensive definition.)\n",
    "\n",
    "In our specific game, suppose that loot boxes can be obtained in one of two ways: \n",
    "- After every three hours of playing the game, a user will earn one loot box.\n",
    "- If the user wishes to purchase a loot box, they may pay $1 (in real money!) for a loot box.\n",
    "\n",
    "These loot boxes are very good for our business!\n",
    "- If a player earns a loot box, it means they are spending lots of time on the game. This often leads to advertisement revenue, they may tell their friends to join the game, etc.\n",
    "- If the player purchases a loot box, it means we've earned $1 from our customer.\n",
    "\n",
    "Suppose each loot box is opened to reveal either:\n",
    "- magical elixir (super rare, very valuable), or\n",
    "- nothing.\n",
    "\n",
    "Whether each loot box contains the elixir or nothing is **random**. Our boss wants some guidance on what sort of randomness to use on these loot boxes! \n",
    "- If the magical elixir is too rare, then users may not be motivated to try to get them, because they believe they'll never find the magical elixir.\n",
    "- If the magical elixir is too common, then users may not be motivated to try to get them, because the game has so much of the magical elixir that it isn't worthwhile to try to get it.\n",
    "\n",
    "However, our boss isn't a math-y type person! When explaining things to our boss, we need to explain the impact of our choices on the game as concretely as possible.\n",
    "\n",
    "### Version 1\n",
    "In our first version of the game, we'll say that loot boxes contain magical elixir 15% of the time and nothing 85% of the time.\n",
    "\n",
    "#### 1. Our boss asks, \"If a user buys 100 loot boxes, how many elixirs will they get?\" How would you respond?"
   ]
  },
  {
   "cell_type": "markdown",
   "metadata": {},
   "source": [
    "**NOTE**: The expected value would be 100 * 0.15 = 15 elixirs. That is to say on average, if a lot of people buy 100 loot boxes and we added up all their elixirs and divided by the total number of paying players. Then we would get a value very close to 15. How precise or close this value is to 15 will depend on how many people buy those 100 boxes. Now even if we say the number is for all intents and purposes 15, notice that I had to talk about people in aggregate? That means it's an average. That's expected value. Somebody will get more than 15 and someone will get less, but on average this value will converge towards 15. My advice is thus, look at other similar games and their gacha system and then model elixir rarity based on their values. In common usage, when we expect something to happen, we think it's more likely to happen than not. But in probability, that's clearly not the case, because we're taking a weighted average of possible outcomes, and the weighted average itself might be an unlikely, or even an impossible outcome. For example, when you roll a die, you \"expect\" the value of the number shown to be 3.5, even though you know that will never happen."
   ]
  },
  {
   "cell_type": "markdown",
   "metadata": {},
   "source": [
    "#### 2. Our boss asks, \"How many loot boxes does someone have to purchase in order to definitely get elixir?\" How would you respond?"
   ]
  },
  {
   "cell_type": "markdown",
   "metadata": {},
   "source": [
    "**NOTE**: Hello boss, one way to look at this is that you are asking for the average number of loot box purchased before the first occurence of success, which is getting an elixir. The answer is actually based on the concept of mathematical expectation which is how I derived the value for you in the previous question. The answer is E = 1/p where p is that 15% of getting an elixir and E is how many loot boxes have to be purchased, so we have 1 / 0.15 = 6.67 loot boxes. Wait? How can that number not even be 6 or 7, it's not a whole number, you can't buy 6.67 loot boxes! Ah, remember what I said about on average? Somebody might need to purchase 7 boxes, somebody else might need to purchase 6 boxes and that averages out to 6.67 boxes. Of course this value would only be observed if we polled a very large number of our players and averaged their answers and the more people we can poll, the closer the value to 6.67 boxes\n",
    "\n",
    "But herein lies the rub, you said 'definitely' and you said 'someone'. There will be someone who might have to purchase 100 loot boxes before they definitely get an elixir! What we have is a binomial distribution. I won't get into the technicalities but, you can imagine you are at a casino and you are playing roulette. For simplicity sake, you can either get red or black with a 50/50 chance. This hasn't happened yet, that's probability. But we can see on a screen that the roulette ball has landed on red 32 consecutive times in a row. That will happen 2.32 times every 10 billion times. Definitely very unlikely. What happened with the roulette ball is known as likelihood. I doubt anyone will think right then that red and black have equal probabilities of happening in this scenario, the casino must have rigged the game! So in setting our probabilities as such for our loot box system, we can't prevent someone from buying 100 loot boxes and still not get an elixir. But any claim that we 'rigged' our gacha system wouldn't be true. This outlier or extreme event can happen, they just don't happen very easily. As such, I would recommend implementing a rule based system based on a threshold to reward a player after purchasing a certain amount of lootboxes. Let me get back to you on what would be an appropriate value, but by doing so, we have removed the element of randomness from our model while still maintaining the apperance of randomness which what draws players into a gacha system."
   ]
  },
  {
   "attachments": {},
   "cell_type": "markdown",
   "metadata": {},
   "source": [
    "#### 3. Our boss asks, \"If a user earns 100 loot boxes, what is the chance that a user gets more than 20 elixirs?\" This is a bit more complicated, so let's break it down before answering."
   ]
  },
  {
   "cell_type": "markdown",
   "metadata": {},
   "source": [
    "#### 3a. Let's suppose my random variable $X$ counts up how many elixirs I observe out of my 100 loot boxes. Why is $X$ a discrete random variable?"
   ]
  },
  {
   "cell_type": "markdown",
   "metadata": {},
   "source": [
    "**NOTE**: To be a continuous random variable, X would have to be able to take any range of values, we can think of it in terms of precision using decimal places. A player cannot get 1.21 or 1.22221 elixirs, no, what he/she will get will be whole number values like 1,2,3 and so on. X in this case cannot take any range of values and hence is discrete."
   ]
  },
  {
   "cell_type": "markdown",
   "metadata": {},
   "source": [
    "#### 3b. Recall our discrete distributions: discrete uniform, Bernoulli, binomial, Poisson. Let's suppose my random variable $X$ counts up how many elixirs I observe out of my 100 loot boxes. What distribution is best suited for $X$? Why?\n",
    "- Hint: It may help to consider getting the magical elixir a \"success\" and getting nothing a \"failure.\" "
   ]
  },
  {
   "cell_type": "markdown",
   "metadata": {},
   "source": [
    "**NOTE**: This is a binomial distribution. Why? A Bernoulli distribution is a binomial distribution with only ONE trial. Poisson is used for when we know the average rate (events such as purchasing loot boxes per time period) and that average rate is a constant. While for a dicrete uniform there can be more than 2 outcomes. For this case, we only have either getting an elixir or not getting an elixir, for a total of 2 outcomes and a 100 trials (or observations). Hence, only binomial distribution is applicable to our scenario."
   ]
  },
  {
   "cell_type": "markdown",
   "metadata": {},
   "source": [
    "#### 3c. Our boss asks, \"If a user earns 100 loot boxes, what is the chance that a user gets more than 20 elixirs?\" Use the probability mass function to answer the boss' question."
   ]
  },
  {
   "cell_type": "code",
   "execution_count": 1,
   "metadata": {},
   "outputs": [],
   "source": [
    "from scipy.stats import binom, poisson\n",
    "import numpy as np\n",
    "import statistics"
   ]
  },
  {
   "cell_type": "code",
   "execution_count": 2,
   "metadata": {},
   "outputs": [
    {
     "name": "stdout",
     "output_type": "stream",
     "text": [
      "The chance to get more than 20 elixirs after earning 100 loot boxes is 6.63%\n"
     ]
    }
   ],
   "source": [
    "PROB = 0.15\n",
    "TRIALS = 100\n",
    "\n",
    "#we need to sum the pmf for successes starting from 20 all the way up to 100\n",
    "print(f'The chance to get more than 20 elixirs after earning 100 loot boxes is \\\n",
    "{round(100 * sum([binom.pmf(num_of_successes, TRIALS, PROB) for num_of_successes in range(21, TRIALS+1)]), 2)}%')\n",
    "\n"
   ]
  },
  {
   "cell_type": "markdown",
   "metadata": {},
   "source": [
    "#### 3d. Our boss asks, \"If a user earns 100 loot boxes, what is the chance that a user gets more than 20 elixirs?\" Use the cumulative distribution function to answer the boss' question."
   ]
  },
  {
   "cell_type": "code",
   "execution_count": 3,
   "metadata": {},
   "outputs": [
    {
     "name": "stdout",
     "output_type": "stream",
     "text": [
      "The chance to get more than 20 elixirs after earning 100 loot boxes is 6.63%\n"
     ]
    }
   ],
   "source": [
    "# To find for more than 20 elixirs, which means 21 and above and so on,\n",
    "# we take 1 minus the cdf for up to 20 successes for 100 trials\n",
    "print(f'The chance to get more than 20 elixirs after earning 100 loot boxes is \\\n",
    "{round(100 * (1 - binom.cdf(20, TRIALS, PROB)), 2)}%')"
   ]
  },
  {
   "cell_type": "markdown",
   "metadata": {},
   "source": [
    "#### 3e. Our boss asks, \"If a user earns 100 loot boxes, what is the chance that a user gets more than 20 elixirs?\" Answer your boss' question. *Remember that your boss is not a math-y person!*"
   ]
  },
  {
   "cell_type": "markdown",
   "metadata": {},
   "source": [
    "Mr boss man, let me illustrate it for you. So you spent 300 hours studying and as a reward you get invited to an event with 99 other individuals that have done the same. You take a seat and the announcer begins.. 'We have provided a reward for all of you.. now please remember that the process behind the reward is entirely random, you all have put in the same amount of work, please look under your seat and find the reward we have placed there for the hard work you all have put in.' You look under your seat and notice a paper bag. You open it to find... 15 elixirs.. hmm that's okay I guess. After all your data scientist did mention something about expecting a value of 15.. but then you realise the person next to you got 30 elixirs!? What? You control your rage and think to yourself.. 'I better ask my data scientist to tell me what just happened!!'\n",
    "\n",
    "Again when it comes to probability, for the same random process, someone will get more and somemore will get less. What we can likely say especially for very very large numbers is that 6.63 persons out of every 100 persons will look under their chair and get more than 20 elixirs. This could be 25, 30 or maybe even 100 (if they are extremely extremly lucky), but not more than 100 since they only earned 100 boxes. That also means someone could get 0 elixirs, and others could receive less than 20. Thats the nature of a random process! Another way to look at this is that if you earned 100 boxes, opened them, recorded the number of elixirs you got and repeated this many, many times, you would notice that the % of times you get more than 20 elixirs would be a number very close to 6.63%. Maybe for a 100 trials of opening 100 boxes, you get 7 trials where you got more than 20 elixirs. You do this again, and now it's 6 trials. And so on and so on. I think you get the picture that once we average those values out, we get 6.63%. After all I been saying this MANY times and I'm starting to think we should send you back to school. j/k"
   ]
  },
  {
   "cell_type": "markdown",
   "metadata": {},
   "source": [
    "#### 4. Your boss wants to know how many people purchased how many loot boxes last month. \n",
    "> For example, last month, 70% of users did not purchase any loot boxes. 10% of people purchased one loot box. 5% of people purchased two loot boxes... and so on.\n",
    "\n",
    "#### 4a. Recall our discrete distributions: discrete uniform, Bernoulli, binomial, Poisson. Let's suppose my random variable $Y$ counts up how many loot boxes each person purchased through the game last month. What distribution is best suited for $Y$? Why?"
   ]
  },
  {
   "cell_type": "markdown",
   "metadata": {},
   "source": [
    "**NOTE**: Poisson distribution would be best suited for Y. The Possion distribution expresses the probability of a given number of events occurring in a fixed interval of time or space if these events occur with a known constant mean rate. We have a fixed interval of time (per month) and a known constant mean rate (counts of loot boxes purchased)."
   ]
  },
  {
   "cell_type": "markdown",
   "metadata": {},
   "source": [
    "#### 4b. Suppose that, on average, your customers purchased 2.7 loot boxes last month. In order for your revenue to be at least $500,000, at least how many users would you need on your platform? (Round your answer up to the nearest thousand.) "
   ]
  },
  {
   "cell_type": "code",
   "execution_count": 4,
   "metadata": {},
   "outputs": [
    {
     "name": "stdout",
     "output_type": "stream",
     "text": [
      "We would need 185185 users\n"
     ]
    }
   ],
   "source": [
    "REVENUE = 500000\n",
    "AVG_LOOT_BOX_PURC_USER = 2.7\n",
    "COST_OF_LOOT_BOX = 1\n",
    "\n",
    "# Finding for required number of users to meet revenue requirement\n",
    "total_no_of_users = REVENUE / (COST_OF_LOOT_BOX * AVG_LOOT_BOX_PURC_USER)\n",
    "print(f'We would need {round(total_no_of_users)} users')"
   ]
  },
  {
   "cell_type": "markdown",
   "metadata": {},
   "source": [
    "#### 4c. Assume that your platform has the numer of users you mentioned in your last answer. Suppose that your platform calls anyone who purchases 5 or more loot boxes in a month a \"high value user.\" How much money do you expect to have earned from \"high value users?\" How about \"low value users?\""
   ]
  },
  {
   "cell_type": "code",
   "execution_count": 5,
   "metadata": {},
   "outputs": [
    {
     "name": "stdout",
     "output_type": "stream",
     "text": [
      "There are 25387 high value users who contribute $142954\n",
      "There are 159798 low value users who contribute $357046\n"
     ]
    }
   ],
   "source": [
    "MU = 2.7\n",
    "K_VALUE = 4\n",
    "\n",
    "#For values from 0 to 4, find the probability that a user purchases that number of loot boxes\n",
    "#then multiply by total no. of users and by number of boxes purchased to find revenue for \n",
    "#that segment. Sum up the revenue by segment to find total revenue from low value users\n",
    "rev_from_lowvalueusers = 0\n",
    "\n",
    "for i in range(0, 5): \n",
    "    rev_from_lowvalueusers += poisson.pmf(i, MU) * total_no_of_users * i\n",
    "\n",
    "#Revenue from high value users. Question is solved.\n",
    "rev_from_highvalueusers = REVENUE - rev_from_lowvalueusers\n",
    "\n",
    "#Out of curiosity, let's find out how many low and high value users there are\n",
    "fraction_of_low_value_users = poisson.cdf(K_VALUE, mu=MU)\n",
    "fraction_of_high_value_users = 1 - fraction_of_low_value_users\n",
    "num_of_high_value_users = fraction_of_high_value_users * total_no_of_users\n",
    "num_of_low_value_users = fraction_of_low_value_users * total_no_of_users\n",
    "\n",
    "#Display the answers\n",
    "print(f'There are {round(num_of_high_value_users)} high value users who contribute ${round(rev_from_highvalueusers)}')\n",
    "print(f'There are {round(num_of_low_value_users)} low value users who contribute ${round(rev_from_lowvalueusers)}')"
   ]
  },
  {
   "cell_type": "markdown",
   "metadata": {},
   "source": [
    "#### 4d. Suppose that you want to summarize how many people purchased how many loot boxes last month for your boss. Since your boss isn't math-y, what are 2-4 summary numbers you might use to summarize this for your boss? (Your answers will vary here - use your judgment!)"
   ]
  },
  {
   "cell_type": "markdown",
   "metadata": {},
   "source": [
    "**NOTE**: I would provide the following 3 summary numbers:\n",
    "\n",
    "1) How many loot boxes were purchased. Firstly this gives an idea of how well our event has done as this metric is directly related to revenue. I could of course have said revenue, but the question states, people and lootboxes. Since the revenue is a function of loot boxes multiplied by price, A/B testing on a sample of our players might gives us insight into a price point to maximise revenue and that is also a function of how many loot boxes were purchased. Also bosses like to hear numbers that involve dollar signs.\n",
    "\n",
    "2) How many people made a purchase during the event. This would allow for a comparison against how many players didn't purchase anything. Because in games today (mobile or otherwise), there are 2 broad segments of players. F2P (free-to-play) and P2W (pay-to-win). There will likely always be more F2P than P2W players and one might mistakenly conclude that the focus should be on P2W, after all those broke F2P gamers aren't earning us any revenue! Not true, there is this thing called the network effect and let's not forget one aspect of psychology that drives P2W players. Power, ego, however you define it, they enjoy sitting at the top of the pecking order. Even P2W players can be further segmented (more on this in a later point) and the smaller whales (whales are big spenders) loathe the bigger ones. No game wants to put off its F2P player base entirely, if not whom do the whales have left to bully, beat into submission and hear the lamentations of their women?\n",
    "\n",
    "3) The number of players that make up the top 1% (we could filter for an even smaller % if we like) in terms of loot boxes purchased per month. We can find this using the percent point function of our call to the poisson function. Above the 99th percentile, these top 1% (lesser actually) of players are purchasing at least 8 loot boxes or more. Normally such a disproportionately small number of players (known as whales, and segmenting further, we could describe them as bigger whales) may make up the bulk of a company's revenue. Even if this is not the case, due a very large number of smaller paying players. These whales are, as described in the previous question, high value users. These are customers with the highest average spend. Customers like these are EVEN more important if they have higher relative spending frequency. In a customer-value matrix, these would be our 'best customers'. We DO NOT want to lose them!"
   ]
  },
  {
   "cell_type": "markdown",
   "metadata": {},
   "source": [
    "#### 5. Your boss asks \"How many loot boxes does it take before someone gets their first elixir?\" Using `np.random.choice`, simulate how many loot boxes it takes somone to get their first elixir. \n",
    "- Start an empty list.\n",
    "- Use control flow to have someone open loot boxes repeatedly.\n",
    "- Once they open a loot box containing an elixir, record the number of loot boxes it took in the empty list.\n",
    "- Repeat this process 100,000 times. \n",
    "\n",
    "This simulates how long it takes for someone to open a loot box containing elixir. Share the 5th, 25th, 50th, 75th, and 95th percentiles.\n",
    "\n",
    "> You may find [this documentation](https://docs.scipy.org/doc/numpy/reference/generated/numpy.random.choice.html)  and [this documentation](https://docs.scipy.org/doc/numpy/reference/generated/numpy.percentile.html) helpful."
   ]
  },
  {
   "cell_type": "code",
   "execution_count": 6,
   "metadata": {},
   "outputs": [
    {
     "name": "stdout",
     "output_type": "stream",
     "text": [
      "100000\n"
     ]
    }
   ],
   "source": [
    "#create empty list\n",
    "count_to_get_elixir_list = []\n",
    "\n",
    "#iterate 100000 times, at the start of each iteration, counter is set to 1\n",
    "for _ in range(100000):\n",
    "    counter = 1\n",
    "    #calling random.choice creates an array that returns either true or false with probabilities of 0.15 and 0.85 respectively\n",
    "    #as long as a value of true is not returned, counter increases by one and the while loop continues iterating\n",
    "    while not np.random.choice([True, False], size=1, p=[0.15,0.85]):\n",
    "        counter += 1\n",
    "    #once a value of true is return, exit out of while loop and append to our list the value of counter\n",
    "    count_to_get_elixir_list.append(counter)\n",
    "\n",
    "#confirm all elements are in our list\n",
    "print(len(count_to_get_elixir_list))"
   ]
  },
  {
   "cell_type": "code",
   "execution_count": 7,
   "metadata": {},
   "outputs": [],
   "source": [
    "# sorting our list by ascending\n",
    "count_to_get_elixir_list.sort()"
   ]
  },
  {
   "cell_type": "code",
   "execution_count": 8,
   "metadata": {},
   "outputs": [],
   "source": [
    "#function to take our list and return the value which is how many loot boxes open to get first elixir at the chosen quantile\n",
    "def quantile_slicer(list, quantile=50):\n",
    "    length = len(list)\n",
    "    position = int(quantile/100 * length)\n",
    "    return list[position]"
   ]
  },
  {
   "cell_type": "code",
   "execution_count": 9,
   "metadata": {},
   "outputs": [
    {
     "name": "stdout",
     "output_type": "stream",
     "text": [
      "At the 5th percentile, the value is 1 loot boxes\n",
      "At the 25th percentile, the value is 2 loot boxes\n",
      "At the 50th percentile, the value is 5 loot boxes\n",
      "At the 75th percentile, the value is 9 loot boxes\n",
      "At the 95th percentile, the value is 19 loot boxes\n"
     ]
    }
   ],
   "source": [
    "#printing for the relevant percentiles\n",
    "print(f'At the 5th percentile, the value is {quantile_slicer(count_to_get_elixir_list, 5)} loot boxes')\n",
    "print(f'At the 25th percentile, the value is {quantile_slicer(count_to_get_elixir_list, 25)} loot boxes')\n",
    "print(f'At the 50th percentile, the value is {quantile_slicer(count_to_get_elixir_list, 50)} loot boxes')\n",
    "print(f'At the 75th percentile, the value is {quantile_slicer(count_to_get_elixir_list, 75)} loot boxes')\n",
    "print(f'At the 95th percentile, the value is {quantile_slicer(count_to_get_elixir_list, 95)} loot boxes')"
   ]
  },
  {
   "cell_type": "markdown",
   "metadata": {},
   "source": [
    "**NOTE**: Answer is above."
   ]
  },
  {
   "cell_type": "markdown",
   "metadata": {},
   "source": [
    "### Version 2\n",
    "\n",
    "After a substantial update to the game, suppose every loot box can be opened to reveal *one of four different* items:\n",
    "- magical elixir (occurs 1% of the time, most valuable)\n",
    "- golden pendant (occurs 9% of the time, valuable)\n",
    "- steel armor (occurs 30% of the time, semi-valuable)\n",
    "- bronze coin (occurs 60% of the time, least valuable)"
   ]
  },
  {
   "cell_type": "markdown",
   "metadata": {},
   "source": [
    "#### 6. Suppose you want repeat problem 5 above, but do that for the version 2 loot boxes so you can track how many loot boxes are needed to get each item? (e.g. You'd like to be able to say that on average it takes 10 trials to get a golden pendant, 3 trials to get steel armor, and so on.) What Python datatype is the best way to store this data? Why?"
   ]
  },
  {
   "cell_type": "markdown",
   "metadata": {},
   "source": [
    "**NOTE**: We could use a dictionary. This would allow us to create as many key, value pairs as we like. With the item name being the key and the average value being the list. We would create a list for each item using the same for loop logic as per problem 5, but would then calculate for the mean and pass that value into our dictionary. For example in the next 2 code cells:"
   ]
  },
  {
   "cell_type": "code",
   "execution_count": 10,
   "metadata": {},
   "outputs": [],
   "source": [
    "#just wanted to try finding the mean for fun\n",
    "\n",
    "#function that for a chosen iteration range and binary probabilities, finds the mean of the\n",
    "#number of trials (loot boxes opened) before getting an item\n",
    "def find_mean_rare_item(p=[0.01,0.99], iterations=100000):\n",
    "    count_list = []\n",
    "    \n",
    "    for _ in range(iterations):\n",
    "        counter = 1\n",
    "        while not np.random.choice([True, False], size=1, p=p):\n",
    "            counter += 1\n",
    "        count_list.append(counter)\n",
    "    \n",
    "    return round(statistics.mean(count_list))"
   ]
  },
  {
   "cell_type": "code",
   "execution_count": 11,
   "metadata": {},
   "outputs": [
    {
     "data": {
      "text/plain": [
       "{'Magical Elixir': 98,\n",
       " 'Golden Pendant': 11,\n",
       " 'Steel Armor': 3,\n",
       " 'Bronze Coin': 2}"
      ]
     },
     "execution_count": 11,
     "metadata": {},
     "output_type": "execute_result"
    }
   ],
   "source": [
    "#example of our dictionary with mean values\n",
    "#you can run 'Magical Elixir' for 100,000 iterations, but that will take some time\n",
    "count_to_get_item_dict={'Magical Elixir': find_mean_rare_item(iterations=100),\n",
    "                        'Golden Pendant': find_mean_rare_item(p=[0.09,0.91] ,iterations=1000),\n",
    "                        'Steel Armor': find_mean_rare_item(p=[0.3,0.7]),\n",
    "                        'Bronze Coin': find_mean_rare_item(p=[0.6,0.4]),\n",
    "                       }\n",
    "\n",
    "count_to_get_item_dict"
   ]
  },
  {
   "cell_type": "markdown",
   "metadata": {},
   "source": [
    "#### 7. Suppose you and your boss want to measure whether \"Version 2\" is better than \"Version 1.\" What metrics do you think are important to measure? (Your answers will vary here - use your judgment!)"
   ]
  },
  {
   "cell_type": "markdown",
   "metadata": {},
   "source": [
    "**NOTE**: We are a games company with an online game where the problem to be analysed is whether our event that has a monetization model in the form of loot boxes does better with version 1 or 2 of loot boxes. Version 2 has more items and the probability distributions have not been given to us. Separate from the idea of whether we optimised our item probability distributions to minimise customer churn, we are then simply comparing whether players prefer version 1 or 2. \n",
    "\n",
    "If players prefer a version over the other, we might notice a few things. \n",
    "\n",
    "1) The revenue during the event would be higher (price per loot box held constant) as players would be incentivised to 'gamble' (oops) more to try and get 'rare' items. More loot boxes purchased is a good thing since there is no cost to scaling with regards to loot boxes. Loot boxes are digital items.\n",
    "\n",
    "2) We would see an increase in the number of player log ins and average hours played per player. This would be indicative of more 'grinding' by free-to-play players to earn loot boxes to get the items. Unless we have some annoying ads in our games as another form of monetization, which would mean more hours played leads to more ads watched and hence more ad revenue, then this increase on server load would likely increase costs as more bandwidth has to be allocated to serve more players. But the costs would be well-worth it as a game without a large player base lacks a sufficient network effect. Also related to my second point, is that we would expect to see more new player sign ups and less customer churn. In our context this means a decrease in the quitting rate or days since last login. We might even expect previously inactive accounts (as defined by a threshold such as 14 days since last log in) to start playing again.\n",
    "\n",
    "3) Whether we as a company have social media accounts or not, a good data scientist would be able to do sentiment analysis and other forms of text analytics on the most popular social media outlets. Certain words would be more likely to show up, words related to the items, the name of the event, our company name, the name of the game, words that reflect emotion etc. We would also notice more conversation (hopefully, good) in-game via the chat function."
   ]
  }
 ],
 "metadata": {
  "kernelspec": {
   "display_name": "Python 3 (ipykernel)",
   "language": "python",
   "name": "python3"
  },
  "language_info": {
   "codemirror_mode": {
    "name": "ipython",
    "version": 3
   },
   "file_extension": ".py",
   "mimetype": "text/x-python",
   "name": "python",
   "nbconvert_exporter": "python",
   "pygments_lexer": "ipython3",
   "version": "3.10.10"
  }
 },
 "nbformat": 4,
 "nbformat_minor": 4
}
